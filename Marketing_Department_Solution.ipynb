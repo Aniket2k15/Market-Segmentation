{
  "nbformat": 4,
  "nbformat_minor": 0,
  "metadata": {
    "colab": {
      "provenance": []
    },
    "kernelspec": {
      "name": "python3",
      "display_name": "Python 3"
    }
  },
  "cells": [
    {
      "cell_type": "markdown",
      "metadata": {
        "id": "zKmFmyaGunc7"
      },
      "source": [
        "# TASK #2: IMPORT LIBRARIES AND DATASETS"
      ]
    },
    {
      "cell_type": "code",
      "metadata": {
        "id": "S0Cx3743urFY",
        "colab": {
          "base_uri": "https://localhost:8080/",
          "height": 72
        },
        "outputId": "47cbe3c1-a14d-46a8-ee5d-47d55ad5ba15"
      },
      "source": [
        "import pandas as pd\n",
        "import numpy as np\n",
        "import seaborn as sns\n",
        "import matplotlib.pyplot as plt\n",
        "from sklearn.preprocessing import StandardScaler, normalize\n",
        "from sklearn.cluster import KMeans\n",
        "from sklearn.decomposition import PCA\n"
      ],
      "execution_count": null,
      "outputs": [
        {
          "output_type": "stream",
          "text": [
            "/usr/local/lib/python3.6/dist-packages/statsmodels/tools/_testing.py:19: FutureWarning: pandas.util.testing is deprecated. Use the functions in the public API at pandas.testing instead.\n",
            "  import pandas.util.testing as tm\n"
          ],
          "name": "stderr"
        }
      ]
    },
    {
      "cell_type": "code",
      "metadata": {
        "id": "5P_ciLXawMZg"
      },
      "source": [
        "from google.colab import files\n",
        "files_upload = files.upload()"
      ],
      "execution_count": null,
      "outputs": []
    },
    {
      "cell_type": "code",
      "metadata": {
        "id": "tjIiJdM4u1IE"
      },
      "source": [
        "\n",
        "creditcard_df = pd.read_csv('Marketing_data.csv')\n",
        "\n",
        "# CUSTID: Identification of Credit Card holder\n",
        "# BALANCE: Balance amount left in customer's account to make purchases\n",
        "# BALANCE_FREQUENCY: How frequently the Balance is updated, score between 0 and 1 (1 = frequently updated, 0 = not frequently updated)\n",
        "# PURCHASES: Amount of purchases made from account\n",
        "# ONEOFFPURCHASES: Maximum purchase amount done in one-go\n",
        "# INSTALLMENTS_PURCHASES: Amount of purchase done in installment\n",
        "# CASH_ADVANCE: Cash in advance given by the user\n",
        "# PURCHASES_FREQUENCY: How frequently the Purchases are being made, score between 0 and 1 (1 = frequently purchased, 0 = not frequently purchased)\n",
        "# ONEOFF_PURCHASES_FREQUENCY: How frequently Purchases are happening in one-go (1 = frequently purchased, 0 = not frequently purchased)\n",
        "# PURCHASES_INSTALLMENTS_FREQUENCY: How frequently purchases in installments are being done (1 = frequently done, 0 = not frequently done)\n",
        "# CASH_ADVANCE_FREQUENCY: How frequently the cash in advance being paid\n",
        "# CASH_ADVANCE_TRX: Number of Transactions made with \"Cash in Advance\"\n",
        "# PURCHASES_TRX: Number of purchase transactions made\n",
        "# CREDIT_LIMIT: Limit of Credit Card for user\n",
        "# PAYMENTS: Amount of Payment done by user\n",
        "# MINIMUM_PAYMENTS: Minimum amount of payments made by user\n",
        "# PRC_FULL_PAYMENT: Percent of full payment paid by user\n",
        "# TENURE: Tenure of credit card service for user"
      ],
      "execution_count": null,
      "outputs": []
    },
    {
      "cell_type": "code",
      "metadata": {
        "id": "q4_wPDKCu5Uc"
      },
      "source": [
        "creditcard_df"
      ],
      "execution_count": null,
      "outputs": []
    },
    {
      "cell_type": "code",
      "metadata": {
        "id": "hMq3-KWOx0e1"
      },
      "source": [
        "creditcard_df.info()\n",
        "# 18 features with 8950 points"
      ],
      "execution_count": null,
      "outputs": []
    },
    {
      "cell_type": "code",
      "metadata": {
        "id": "s0E9xPLdx2Ok"
      },
      "source": [
        "creditcard_df.describe()\n",
        "# Mean balance is $1564\n",
        "# Balance frequency is frequently updated on average ~0.9\n",
        "# Purchases average is $1000\n",
        "# one off purchase average is ~$600\n",
        "# Average purchases frequency is around 0.5\n",
        "# average ONEOFF_PURCHASES_FREQUENCY, PURCHASES_INSTALLMENTS_FREQUENCY, and CASH_ADVANCE_FREQUENCY are generally low\n",
        "# Average credit limit ~ 4500\n",
        "# Percent of full payment is 15%\n",
        "# Average tenure is 11 years"
      ],
      "execution_count": null,
      "outputs": []
    },
    {
      "cell_type": "code",
      "metadata": {
        "id": "MA5bKvr7KxI8"
      },
      "source": [
        "# Let's see who made one off purchase of $40761!\n",
        "creditcard_df[creditcard_df['ONEOFF_PURCHASES'] == 40761.25]\n"
      ],
      "execution_count": null,
      "outputs": []
    },
    {
      "cell_type": "code",
      "metadata": {
        "id": "RBiutRGLL9HH"
      },
      "source": [
        "creditcard_df['CASH_ADVANCE'].max()"
      ],
      "execution_count": null,
      "outputs": []
    },
    {
      "cell_type": "code",
      "metadata": {
        "id": "FAIfPnCLLnjw"
      },
      "source": [
        "# Let's see who made cash advance of $47137!\n",
        "# This customer made 123 cash advance transactions!!\n",
        "# Never paid credit card in full\n",
        "\n",
        "creditcard_df[creditcard_df['CASH_ADVANCE'] == 47137.211760000006]\n"
      ],
      "execution_count": null,
      "outputs": []
    },
    {
      "cell_type": "markdown",
      "metadata": {
        "id": "LlszUhNNyrl_"
      },
      "source": [
        " VISUALIZING AND EXPLORING DATASET"
      ]
    },
    {
      "cell_type": "code",
      "metadata": {
        "id": "ICj3NLbqqmve"
      },
      "source": [
        "# Let's see if we have any missing data, luckily we don't!\n",
        " sns.heatmap(creditcard_df.isnull(), yticklabels = False, cbar = False, cmap=\"Blues\")\n"
      ],
      "execution_count": null,
      "outputs": []
    },
    {
      "cell_type": "code",
      "metadata": {
        "id": "70XopgWwMmHG"
      },
      "source": [
        "creditcard_df.isnull().sum()"
      ],
      "execution_count": null,
      "outputs": []
    },
    {
      "cell_type": "code",
      "metadata": {
        "id": "wboxbIPwT7Wi"
      },
      "source": [
        "# Fill up the missing elements with mean of the 'MINIMUM_PAYMENT'\n",
        "creditcard_df.loc[(creditcard_df['MINIMUM_PAYMENTS'].isnull() == True), 'MINIMUM_PAYMENTS'] = creditcard_df['MINIMUM_PAYMENTS'].mean()\n"
      ],
      "execution_count": null,
      "outputs": []
    },
    {
      "cell_type": "code",
      "metadata": {
        "id": "ciOq-cYxMw8P"
      },
      "source": [
        "# Fill up the missing elements with mean of the 'CREDIT_LIMIT'\n",
        "creditcard_df.loc[(creditcard_df['CREDIT_LIMIT'].isnull() == True), 'CREDIT_LIMIT'] = creditcard_df['CREDIT_LIMIT'].mean()"
      ],
      "execution_count": null,
      "outputs": []
    },
    {
      "cell_type": "code",
      "metadata": {
        "id": "H-c9kqOSUU1t"
      },
      "source": [
        " sns.heatmap(creditcard_df.isnull(), yticklabels = False, cbar = False, cmap=\"Blues\")"
      ],
      "execution_count": null,
      "outputs": []
    },
    {
      "cell_type": "code",
      "metadata": {
        "id": "zFIXGFrucdCl"
      },
      "source": [
        "# Let's see if we have duplicated entries in the data\n",
        "creditcard_df.duplicated().sum()"
      ],
      "execution_count": null,
      "outputs": []
    },
    {
      "cell_type": "code",
      "metadata": {
        "id": "onSLJRBtcohW"
      },
      "source": [
        "# Let's drop Customer ID since it has no meaning here\n",
        "creditcard_df.drop(\"CUST_ID\", axis = 1, inplace= True)"
      ],
      "execution_count": null,
      "outputs": []
    },
    {
      "cell_type": "code",
      "metadata": {
        "id": "PSzpvJgWcxnu"
      },
      "source": [
        "creditcard_df.head()"
      ],
      "execution_count": null,
      "outputs": []
    },
    {
      "cell_type": "code",
      "metadata": {
        "id": "QIw-jGI9NOCg"
      },
      "source": [
        "n = len(creditcard_df.columns)\n",
        "n"
      ],
      "execution_count": null,
      "outputs": []
    },
    {
      "cell_type": "code",
      "metadata": {
        "id": "fIOb3930ONKS"
      },
      "source": [
        "creditcard_df.columns"
      ],
      "execution_count": null,
      "outputs": []
    },
    {
      "cell_type": "code",
      "metadata": {
        "id": "rFmjikf6ONgu"
      },
      "source": [
        "# distplot combines the matplotlib.hist function with seaborn kdeplot()\n",
        "# KDE Plot represents the Kernel Density Estimate\n",
        "# KDE is used for visualizing the Probability Density of a continuous variable.\n",
        "# KDE demonstrates the probability density at different values in a continuous variable.\n",
        "\n",
        "plt.figure(figsize=(10,50))\n",
        "for i in range(len(creditcard_df.columns)):\n",
        "  plt.subplot(17, 1, i+1)\n",
        "  sns.distplot(creditcard_df[creditcard_df.columns[i]], kde_kws={\"color\": \"b\", \"lw\": 3, \"label\": \"KDE\"}, hist_kws={\"color\": \"g\"})\n",
        "  plt.title(creditcard_df.columns[i])\n",
        "\n",
        "plt.tight_layout()"
      ],
      "execution_count": null,
      "outputs": []
    },
    {
      "cell_type": "code",
      "metadata": {
        "id": "bnGS8pC1UsN9"
      },
      "source": [
        "# sns.pairplot(creditcard_df)\n",
        "# Correlation between 'PURCHASES' and ONEOFF_PURCHASES & INSTALMENT_PURCHASES\n",
        "# Trend between 'PURCHASES' and 'CREDIT_LIMIT' & 'PAYMENTS'\n"
      ],
      "execution_count": null,
      "outputs": []
    },
    {
      "cell_type": "code",
      "metadata": {
        "id": "c6UiAqTkKD85"
      },
      "source": [
        "correlations = creditcard_df.corr()\n"
      ],
      "execution_count": null,
      "outputs": []
    },
    {
      "cell_type": "code",
      "metadata": {
        "id": "zBy4m89a08Sj"
      },
      "source": [
        "f, ax = plt.subplots(figsize = (20, 20))\n",
        "sns.heatmap(correlations, annot = True)\n",
        "\n",
        "# 'PURCHASES' have high correlation between one-off purchases, 'installment purchases, purchase transactions, credit limit and payments.\n",
        "# Strong Positive Correlation between 'PURCHASES_FREQUENCY' and 'PURCHASES_INSTALLMENT_FREQUENCY'\n"
      ],
      "execution_count": null,
      "outputs": []
    },
    {
      "cell_type": "markdown",
      "metadata": {
        "id": "Y0GmpAjG3GiH"
      },
      "source": [
        "THE OPTIMAL NUMBER OF CLUSTERS USING ELBOW METHOD"
      ]
    },
    {
      "cell_type": "markdown",
      "metadata": {
        "id": "6cJZDKkikWOn"
      },
      "source": [
        "- The elbow method is a heuristic method of interpretation and validation of consistency within cluster analysis designed to help find the appropriate number of clusters in a dataset.\n",
        "- If the line chart looks like an arm, then the \"elbow\" on the arm is the value of k that is the best.\n"
      ]
    },
    {
      "cell_type": "code",
      "metadata": {
        "id": "axr926Btjyux"
      },
      "source": [
        "# Let's scale the data first\n",
        "scaler = StandardScaler()\n",
        "creditcard_df_scaled = scaler.fit_transform(creditcard_df)"
      ],
      "execution_count": null,
      "outputs": []
    },
    {
      "cell_type": "code",
      "metadata": {
        "id": "9CJeasg4kHyP"
      },
      "source": [
        "creditcard_df_scaled.shape"
      ],
      "execution_count": null,
      "outputs": []
    },
    {
      "cell_type": "code",
      "metadata": {
        "id": "FK5ggiVPsJE9"
      },
      "source": [
        "creditcard_df_scaled"
      ],
      "execution_count": null,
      "outputs": []
    },
    {
      "cell_type": "code",
      "metadata": {
        "id": "1_nb-D8H3cK-"
      },
      "source": [
        "scores_1 = []\n",
        "\n",
        "range_values = range(1, 20)\n",
        "\n",
        "for i in range_values:\n",
        "  kmeans = KMeans(n_clusters = i)\n",
        "  kmeans.fit(creditcard_df_scaled)\n",
        "  scores_1.append(kmeans.inertia_)\n",
        "\n",
        "plt.plot(scores_1, 'bx-')\n",
        "plt.title('Finding the right number of clusters')\n",
        "plt.xlabel('Clusters')\n",
        "plt.ylabel('Scores')\n",
        "plt.show()\n",
        "\n",
        "# From this we can observe that, 4th cluster seems to be forming the elbow of the curve.\n",
        "# However, the values does not reduce linearly until 8th cluster.\n",
        "# Let's choose the number of clusters to be 7."
      ],
      "execution_count": null,
      "outputs": []
    },
    {
      "cell_type": "markdown",
      "metadata": {
        "id": "m_jo7mJ4C8R9"
      },
      "source": [
        "APPLYING K-MEANS METHOD"
      ]
    },
    {
      "cell_type": "code",
      "metadata": {
        "id": "qwzY8rj0uV-a"
      },
      "source": [
        "kmeans = KMeans(8)\n",
        "kmeans.fit(creditcard_df_scaled)\n",
        "labels = kmeans.labels_"
      ],
      "execution_count": null,
      "outputs": []
    },
    {
      "cell_type": "code",
      "metadata": {
        "id": "dShNNvg09zH3"
      },
      "source": [
        "kmeans.cluster_centers_.shape"
      ],
      "execution_count": null,
      "outputs": []
    },
    {
      "cell_type": "code",
      "metadata": {
        "id": "VEiPOUJv9iFK"
      },
      "source": [
        "\n",
        "cluster_centers = pd.DataFrame(data = kmeans.cluster_centers_, columns = [creditcard_df.columns])\n",
        "cluster_centers"
      ],
      "execution_count": null,
      "outputs": []
    },
    {
      "cell_type": "code",
      "metadata": {
        "id": "9ogiZbsGBBl8"
      },
      "source": [
        "# In order to understand what these numbers mean, let's perform inverse transformation\n",
        "cluster_centers = scaler.inverse_transform(cluster_centers)\n",
        "cluster_centers = pd.DataFrame(data = cluster_centers, columns = [creditcard_df.columns])\n",
        "cluster_centers\n",
        "\n",
        "# First Customers cluster (Transactors): Those are customers who pay least amount of intrerest charges and careful with their money, Cluster with lowest balance ($104) and cash advance ($303), Percentage of full payment = 23%\n",
        "# Second customers cluster (revolvers) who use credit card as a loan (most lucrative sector): highest balance ($5000) and cash advance (~$5000), low purchase frequency, high cash advance frequency (0.5), high cash advance transactions (16) and low percentage of full payment (3%)\n",
        "# Third customer cluster (VIP/Prime): high credit limit $16K and highest percentage of full payment, target for increase credit limit and increase spending habits\n",
        "# Fourth customer cluster (low tenure): these are customers with low tenure (7 years), low balance\n"
      ],
      "execution_count": null,
      "outputs": []
    },
    {
      "cell_type": "code",
      "metadata": {
        "id": "kCuHRqBIusm7"
      },
      "source": [
        "labels.shape"
      ],
      "execution_count": null,
      "outputs": []
    },
    {
      "cell_type": "code",
      "metadata": {
        "id": "Ywcls4cvu2lh"
      },
      "source": [
        "labels.max()"
      ],
      "execution_count": null,
      "outputs": []
    },
    {
      "cell_type": "code",
      "metadata": {
        "id": "NPQIMB7Fu9f3"
      },
      "source": [
        "labels.min()"
      ],
      "execution_count": null,
      "outputs": []
    },
    {
      "cell_type": "code",
      "metadata": {
        "id": "kgLSvv-6vHSs"
      },
      "source": [
        "y_kmeans = kmeans.fit_predict(creditcard_df_scaled)\n",
        "y_kmeans\n"
      ],
      "execution_count": null,
      "outputs": []
    },
    {
      "cell_type": "code",
      "metadata": {
        "id": "OfMaZqUOqdJB"
      },
      "source": [
        "# concatenate the clusters labels to our original dataframe\n",
        "creditcard_df_cluster = pd.concat([creditcard_df, pd.DataFrame({'cluster':labels})], axis = 1)\n",
        "creditcard_df_cluster.head()"
      ],
      "execution_count": null,
      "outputs": []
    },
    {
      "cell_type": "code",
      "metadata": {
        "id": "TYEhR6rvqwda"
      },
      "source": [
        "# Plot the histogram of various clusters\n",
        "for i in creditcard_df.columns:\n",
        "  plt.figure(figsize = (35, 5))\n",
        "  for j in range(8):\n",
        "    plt.subplot(1,8,j+1)\n",
        "    cluster = creditcard_df_cluster[creditcard_df_cluster['cluster'] == j]\n",
        "    cluster[i].hist(bins = 20)\n",
        "    plt.title('{}    \\nCluster {} '.format(i,j))\n",
        "\n",
        "  plt.show()\n",
        "\n"
      ],
      "execution_count": null,
      "outputs": []
    },
    {
      "cell_type": "markdown",
      "metadata": {
        "id": "UVTd7FYLNCAE"
      },
      "source": [
        "APPLYING PRINCIPAL COMPONENT ANALYSIS AND VISUALIZE THE RESULTS"
      ]
    },
    {
      "cell_type": "code",
      "metadata": {
        "id": "RgFq3h993cIz"
      },
      "source": [
        "# Obtain the principal components\n",
        "pca = PCA(n_components=2)\n",
        "principal_comp = pca.fit_transform(creditcard_df_scaled)\n",
        "principal_comp"
      ],
      "execution_count": null,
      "outputs": []
    },
    {
      "cell_type": "code",
      "metadata": {
        "id": "ad3UQtPU0eHK"
      },
      "source": [
        "# Create a dataframe with the two components\n",
        "pca_df = pd.DataFrame(data = principal_comp, columns =['pca1','pca2'])\n",
        "pca_df.head()"
      ],
      "execution_count": null,
      "outputs": []
    },
    {
      "cell_type": "code",
      "metadata": {
        "id": "q7gsGkEZvkYd"
      },
      "source": [
        "# Concatenate the clusters labels to the dataframe\n",
        "pca_df = pd.concat([pca_df,pd.DataFrame({'cluster':labels})], axis = 1)\n",
        "pca_df.head()"
      ],
      "execution_count": null,
      "outputs": []
    },
    {
      "cell_type": "code",
      "metadata": {
        "id": "4KYt5SUrvneq"
      },
      "source": [
        "plt.figure(figsize=(10,10))\n",
        "ax = sns.scatterplot(x=\"pca1\", y=\"pca2\", hue = \"cluster\", data = pca_df, palette =['red','green','blue','pink','yellow','gray','purple', 'black'])\n",
        "plt.show()"
      ],
      "execution_count": null,
      "outputs": []
    },
    {
      "cell_type": "code",
      "source": [],
      "metadata": {
        "id": "4Menrzj12S9C"
      },
      "execution_count": null,
      "outputs": []
    },
    {
      "cell_type": "code",
      "source": [],
      "metadata": {
        "id": "OT_wOKje2TJ-"
      },
      "execution_count": null,
      "outputs": []
    },
    {
      "cell_type": "markdown",
      "metadata": {
        "id": "-wRQqOeB5Zh5"
      },
      "source": [
        "# APPLYING AUTOENCODERS (PERFORM DIMENSIONALITY REDUCTION USING AUTOENCODERS)"
      ]
    },
    {
      "cell_type": "code",
      "metadata": {
        "id": "LfGAnIVUv44L"
      },
      "source": [
        "from tensorflow.keras.layers import Input, Add, Dense, Activation, ZeroPadding2D, BatchNormalization, Flatten, Conv2D, AveragePooling2D, MaxPooling2D, Dropout\n",
        "from tensorflow.keras.models import Model, load_model\n",
        "from tensorflow.keras.initializers import glorot_uniform\n",
        "from keras.optimizers import SGD\n",
        "\n",
        "encoding_dim = 7\n",
        "\n",
        "input_df = Input(shape=(17,))\n",
        "\n",
        "\n",
        "# Glorot normal initializer (Xavier normal initializer) draws samples from a truncated normal distribution\n",
        "\n",
        "x = Dense(encoding_dim, activation='relu')(input_df)\n",
        "x = Dense(500, activation='relu', kernel_initializer = 'glorot_uniform')(x)\n",
        "x = Dense(500, activation='relu', kernel_initializer = 'glorot_uniform')(x)\n",
        "x = Dense(2000, activation='relu', kernel_initializer = 'glorot_uniform')(x)\n",
        "\n",
        "encoded = Dense(10, activation='relu', kernel_initializer = 'glorot_uniform')(x)\n",
        "\n",
        "x = Dense(2000, activation='relu', kernel_initializer = 'glorot_uniform')(encoded)\n",
        "x = Dense(500, activation='relu', kernel_initializer = 'glorot_uniform')(x)\n",
        "\n",
        "decoded = Dense(17, kernel_initializer = 'glorot_uniform')(x)\n",
        "\n",
        "# autoencoder\n",
        "autoencoder = Model(input_df, decoded)\n",
        "\n",
        "#encoder - used for our dimention reduction\n",
        "encoder = Model(input_df, encoded)\n",
        "\n",
        "autoencoder.compile(optimizer= 'adam', loss='mean_squared_error')\n"
      ],
      "execution_count": null,
      "outputs": []
    },
    {
      "cell_type": "code",
      "metadata": {
        "id": "L7IYeT6Q05-Q"
      },
      "source": [
        "creditcard_df_scaled.shape"
      ],
      "execution_count": null,
      "outputs": []
    },
    {
      "cell_type": "code",
      "metadata": {
        "id": "Pd9qA2Chweye"
      },
      "source": [
        "autoencoder.fit(creditcard_df_scaled, creditcard_df_scaled, batch_size = 128, epochs = 25,  verbose = 1)"
      ],
      "execution_count": null,
      "outputs": []
    },
    {
      "cell_type": "code",
      "metadata": {
        "id": "zZ86PPLm1sTn"
      },
      "source": [
        "autoencoder.save_weights('autoencoder.h5')"
      ],
      "execution_count": null,
      "outputs": []
    },
    {
      "cell_type": "code",
      "metadata": {
        "id": "0lL6Wv0e1scz"
      },
      "source": [
        "pred = encoder.predict(creditcard_df_scaled)"
      ],
      "execution_count": null,
      "outputs": []
    },
    {
      "cell_type": "code",
      "metadata": {
        "id": "r_iqk31a2G-t"
      },
      "source": [
        "pred.shape"
      ],
      "execution_count": null,
      "outputs": []
    },
    {
      "cell_type": "code",
      "metadata": {
        "id": "jnHIsvgn2Omk"
      },
      "source": [
        "scores_2 = []\n",
        "\n",
        "range_values = range(1, 20)\n",
        "\n",
        "for i in range_values:\n",
        "  kmeans = KMeans(n_clusters= i)\n",
        "  kmeans.fit(pred)\n",
        "  scores_2.append(kmeans.inertia_)\n",
        "\n",
        "plt.plot(scores_2, 'bx-')\n",
        "plt.title('Finding right number of clusters')\n",
        "plt.xlabel('Clusters')\n",
        "plt.ylabel('scores')\n",
        "plt.show()"
      ],
      "execution_count": null,
      "outputs": []
    },
    {
      "cell_type": "code",
      "metadata": {
        "id": "EUvpOCwq48IM"
      },
      "source": [
        "plt.plot(scores_1, 'bx-', color = 'r')\n",
        "plt.plot(scores_2, 'bx-', color = 'g')"
      ],
      "execution_count": null,
      "outputs": []
    },
    {
      "cell_type": "code",
      "metadata": {
        "id": "7JhXSa-j32rj"
      },
      "source": [
        "kmeans = KMeans(4)\n",
        "kmeans.fit(pred)\n",
        "labels = kmeans.labels_\n",
        "y_kmeans = kmeans.fit_predict(creditcard_df_scaled)"
      ],
      "execution_count": null,
      "outputs": []
    },
    {
      "cell_type": "code",
      "metadata": {
        "id": "utaeIFtD38X-"
      },
      "source": [
        "df_cluster_dr = pd.concat([creditcard_df, pd.DataFrame({'cluster':labels})], axis = 1)\n",
        "df_cluster_dr.head()"
      ],
      "execution_count": null,
      "outputs": []
    },
    {
      "cell_type": "code",
      "metadata": {
        "id": "fhU84OJx4jFb"
      },
      "source": [
        "pca = PCA(n_components=2)\n",
        "prin_comp = pca.fit_transform(pred)\n",
        "pca_df = pd.DataFrame(data = prin_comp, columns =['pca1','pca2'])\n",
        "pca_df.head()"
      ],
      "execution_count": null,
      "outputs": []
    },
    {
      "cell_type": "code",
      "metadata": {
        "id": "RlSSorv65kao"
      },
      "source": [
        "pca_df = pd.concat([pca_df,pd.DataFrame({'cluster':labels})], axis = 1)\n",
        "pca_df.head()"
      ],
      "execution_count": null,
      "outputs": []
    },
    {
      "cell_type": "code",
      "metadata": {
        "id": "G3aPOnO65ot-"
      },
      "source": [
        "plt.figure(figsize=(10,10))\n",
        "ax = sns.scatterplot(x=\"pca1\", y=\"pca2\", hue = \"cluster\", data = pca_df, palette =['red','green','blue','yellow'])\n",
        "plt.show()"
      ],
      "execution_count": null,
      "outputs": []
    }
  ]
}